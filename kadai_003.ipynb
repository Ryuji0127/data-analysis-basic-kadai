{
  "nbformat": 4,
  "nbformat_minor": 0,
  "metadata": {
    "colab": {
      "provenance": []
    },
    "kernelspec": {
      "name": "python3",
      "display_name": "Python 3"
    },
    "language_info": {
      "name": "python"
    }
  },
  "cells": [
    {
      "cell_type": "markdown",
      "source": [
        "Step1.\n",
        "NumPyをインポートするコードを記述する<br>\n",
        "Step2.\n",
        "AとBの行列を格納する多次元配列のコードを記述する<br>\n",
        "Step3.\n",
        "行列の積(掛け算)の計算をするコードを記述する<br>\n",
        "Step4.\n",
        "Step3.の計算結果を表示するコードを記述する<br>\n",
        "Step5.\n",
        "行列の要素の最大値を求めるコードを記述する<br>"
      ],
      "metadata": {
        "id": "oXZAPskzoVWn"
      }
    },
    {
      "cell_type": "code",
      "execution_count": 7,
      "metadata": {
        "colab": {
          "base_uri": "https://localhost:8080/"
        },
        "id": "Z8x_OszqoQB1",
        "outputId": "ca84e649-0571-4bb8-e2af-df92b7916f7d"
      },
      "outputs": [
        {
          "output_type": "stream",
          "name": "stdout",
          "text": [
            "[[ 4  5  6  7]\n",
            " [12 17 22 27]\n",
            " [20 29 38 47]]\n"
          ]
        },
        {
          "output_type": "execute_result",
          "data": {
            "text/plain": [
              "47"
            ]
          },
          "metadata": {},
          "execution_count": 7
        }
      ],
      "source": [
        "# Step1.  NumPyをインポートするコードを記述する\n",
        "import numpy as np\n",
        "# Step2. AとBの行列を格納する多次元配列のコードを記述する\n",
        "a = np.array([[0,1],[2,3],[4,5]])\n",
        "b = np.array([[0,1,2,3],[4,5,6,7]])\n",
        "# Step3. 行列の積(掛け算)の計算をするコードを記述する\n",
        "np.dot(a,b)\n",
        "# Step4. Step3.の計算結果を表示するコードを記述する\n",
        "print(np.dot(a,b))\n",
        "# Step5. 行列の要素の最大値を求めるコードを記述する\n",
        "max_np = np.dot(a,b)\n",
        "max_np.max()"
      ]
    },
    {
      "cell_type": "code",
      "source": [
        "b = np.array([[0,1,2,3],[4,5,6,7]])\n",
        "b"
      ],
      "metadata": {
        "id": "bIUUHwb9qF_r"
      },
      "execution_count": null,
      "outputs": []
    },
    {
      "cell_type": "code",
      "source": [
        "a = np.array([[0,1],[2,3],[4,5]])\n",
        "b = np.array([[0,1,2,3],[4,5,6,7]])\n",
        "print(a)\n",
        "print(b)"
      ],
      "metadata": {
        "colab": {
          "base_uri": "https://localhost:8080/"
        },
        "id": "Cskze5qWtLQB",
        "outputId": "76f52b7e-7249-405e-d8cf-b64eb0a96b28"
      },
      "execution_count": null,
      "outputs": [
        {
          "output_type": "stream",
          "name": "stdout",
          "text": [
            "[[0 1]\n",
            " [2 3]\n",
            " [4 5]]\n",
            "[[0 1 2 3]\n",
            " [4 5 6 7]]\n"
          ]
        }
      ]
    },
    {
      "cell_type": "code",
      "source": [],
      "metadata": {
        "id": "JPhG-7aitLMR"
      },
      "execution_count": null,
      "outputs": []
    },
    {
      "cell_type": "code",
      "source": [],
      "metadata": {
        "id": "JBbwQPkOtLJ0"
      },
      "execution_count": null,
      "outputs": []
    }
  ]
}